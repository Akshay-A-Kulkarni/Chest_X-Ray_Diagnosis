{
  "nbformat": 4,
  "nbformat_minor": 0,
  "metadata": {
    "kernelspec": {
      "name": "python3",
      "display_name": "Python 3"
    },
    "language_info": {
      "codemirror_mode": {
        "name": "ipython",
        "version": 3
      },
      "file_extension": ".py",
      "mimetype": "text/x-python",
      "name": "python",
      "nbconvert_exporter": "python",
      "pygments_lexer": "ipython3",
      "version": "3.7.3"
    },
    "colab": {
      "name": "ConsolidatedCode.ipynb",
      "provenance": [],
      "toc_visible": true
    },
    "accelerator": "GPU"
  },
  "cells": [
    {
      "cell_type": "markdown",
      "metadata": {
        "id": "VB1J4NHQKPXQ",
        "colab_type": "text"
      },
      "source": [
        "# Chest X-Ray Diagnosis\n",
        "#### This .ipynb notebook should contain all code that is ready for testing and refining , So paste all code pertaining to the project deliverables here once it's deemed usable ."
      ]
    },
    {
      "cell_type": "markdown",
      "metadata": {
        "id": "fV86FNPuKV-S",
        "colab_type": "text"
      },
      "source": [
        "# Introduction\n",
        "\n",
        "Lets classify some muthafuckin x-rays\n",
        "\n",
        "\n",
        "\n"
      ]
    },
    {
      "cell_type": "markdown",
      "metadata": {
        "id": "fkV7xtVkLe5Z",
        "colab_type": "text"
      },
      "source": [
        "#  Working in *Colab* and saving to *Github*. [IMP]\n",
        "\n",
        "\n",
        "Guys so it is possible to work in a google colab simultaenously and overwrite the notebook to the master repo from within colab so thats good !\n",
        "\n",
        "Now we have access to a free `Tesla K80 GPU` to train our models (or even TPU's) \n",
        "\n",
        "This markdown block you're reading was created by me in the colab notebook after linking it to my github and then was saved back to github.\n",
        "\n",
        "These should be the general steps you follow :\n",
        "- Read only actions such as running or copying code from here to elsewhere are normal\n",
        "- When making edits if you feel you might male major changes, you have the option to copy it to a google drive to safely fuck with anything you want\n",
        "\n",
        "- Once youre sure that the edits or code additions are good you can select the `save a copy to Github` option and overwrite the file.\n",
        "\n"
      ]
    },
    {
      "cell_type": "code",
      "metadata": {
        "id": "Eel5s-GbKPXW",
        "colab_type": "code",
        "outputId": "5a07fb52-8c12-44e1-a473-3a6f5ac7c4a1",
        "colab": {
          "base_uri": "https://localhost:8080/",
          "height": 34
        }
      },
      "source": [
        "def HelloProject():\n",
        "    print(\"Sup' Stantormers\")\n",
        "    \n",
        "\n",
        "HelloProject()"
      ],
      "execution_count": 0,
      "outputs": [
        {
          "output_type": "stream",
          "text": [
            "Sup' Stantormers\n"
          ],
          "name": "stdout"
        }
      ]
    },
    {
      "cell_type": "markdown",
      "metadata": {
        "id": "xkbl1QqVaO9i",
        "colab_type": "text"
      },
      "source": [
        "##  Google Drive File System"
      ]
    },
    {
      "cell_type": "code",
      "metadata": {
        "id": "zMWPn7KxKPXt",
        "colab_type": "code",
        "colab": {
          "base_uri": "https://localhost:8080/",
          "height": 124
        },
        "outputId": "6815271f-8023-471d-adb3-4a7afa724e41"
      },
      "source": [
        "## Run this and copy the api key \n",
        "from google.colab import drive\n",
        "\n",
        "drive.mount('/content/gdrive', force_remount=True)\n",
        "root_path = 'gdrive/My Drive/'  #change dir to your project folder\n"
      ],
      "execution_count": 2,
      "outputs": [
        {
          "output_type": "stream",
          "text": [
            "Go to this URL in a browser: https://accounts.google.com/o/oauth2/auth?client_id=947318989803-6bn6qk8qdgf4n4g3pfee6491hc0brc4i.apps.googleusercontent.com&redirect_uri=urn%3aietf%3awg%3aoauth%3a2.0%3aoob&response_type=code&scope=email%20https%3a%2f%2fwww.googleapis.com%2fauth%2fdocs.test%20https%3a%2f%2fwww.googleapis.com%2fauth%2fdrive%20https%3a%2f%2fwww.googleapis.com%2fauth%2fdrive.photos.readonly%20https%3a%2f%2fwww.googleapis.com%2fauth%2fpeopleapi.readonly\n",
            "\n",
            "Enter your authorization code:\n",
            "··········\n",
            "Mounted at /content/gdrive\n"
          ],
          "name": "stdout"
        }
      ]
    },
    {
      "cell_type": "code",
      "metadata": {
        "id": "xeSN3l8MackF",
        "colab_type": "code",
        "colab": {}
      },
      "source": [
        "import os\n",
        "os.chdir(root))\n",
        "\n",
        "# do not do re run this \n",
        "# !unzip -q x_ray_1000_images.zip\n"
      ],
      "execution_count": 0,
      "outputs": []
    },
    {
      "cell_type": "code",
      "metadata": {
        "id": "p_K0K62-actC",
        "colab_type": "code",
        "colab": {}
      },
      "source": [
        "import pandas as pd\n",
        "\n",
        "labeldf = pd.read_csv(r\"x_ray_1000.csv\")\n",
        "\n",
        "display(labeldf)"
      ],
      "execution_count": 0,
      "outputs": []
    },
    {
      "cell_type": "code",
      "metadata": {
        "id": "-VuFEdzhacwJ",
        "colab_type": "code",
        "colab": {}
      },
      "source": [
        "## Do your stuff here  stan\n"
      ],
      "execution_count": 0,
      "outputs": []
    }
  ]
}