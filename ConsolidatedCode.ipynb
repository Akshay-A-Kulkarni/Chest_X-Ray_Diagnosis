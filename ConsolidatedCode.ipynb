{
  "nbformat": 4,
  "nbformat_minor": 0,
  "metadata": {
    "kernelspec": {
      "name": "python3",
      "display_name": "Python 3"
    },
    "language_info": {
      "codemirror_mode": {
        "name": "ipython",
        "version": 3
      },
      "file_extension": ".py",
      "mimetype": "text/x-python",
      "name": "python",
      "nbconvert_exporter": "python",
      "pygments_lexer": "ipython3",
      "version": "3.7.3"
    },
    "colab": {
      "name": "ConsolidatedCode.ipynb",
      "provenance": [],
      "toc_visible": true
    },
    "accelerator": "GPU"
  },
  "cells": [
    {
      "cell_type": "markdown",
      "metadata": {
        "id": "VB1J4NHQKPXQ",
        "colab_type": "text"
      },
      "source": [
        "# Chest X-Ray Diagnosis\n",
        "#### This .ipynb notebook should contain all code that is ready for testing and refining , So paste all code pertaining to the project deliverables here once it's deemed usable ."
      ]
    },
    {
      "cell_type": "markdown",
      "metadata": {
        "id": "fV86FNPuKV-S",
        "colab_type": "text"
      },
      "source": [
        "# Introduction\n",
        "\n",
        "Lets classify some muthafuckin x-rays\n",
        "\n",
        "\n",
        "\n"
      ]
    },
    {
      "cell_type": "markdown",
      "metadata": {
        "id": "fkV7xtVkLe5Z",
        "colab_type": "text"
      },
      "source": [
        "#  Working in *Colab* and saving to *Github*. [IMP]\n",
        "\n",
        "\n",
        "Guys so it is possible to work in a google colab simultaenously and overwrite the notebook to the master repo from within colab so thats good !\n",
        "\n",
        "Now we have access to a free `Tesla K80 GPU` to train our models (or even TPU's) \n",
        "\n",
        "This markdown block you're reading was created by me in the colab notebook after linking it to my github and then was saved back to github.\n",
        "\n",
        "These should be the general steps you follow :\n",
        "- Read only actions such as running or copying code from here to elsewhere are normal\n",
        "- When making edits if you feel you might male major changes, you have the option to copy it to a google drive to safely fuck with anything you want\n",
        "\n",
        "- Once youre sure that the edits or code additions are good you can select the `save a copy to Github` option and overwrite the file.\n",
        "\n"
      ]
    },
    {
      "cell_type": "code",
      "metadata": {
        "id": "Eel5s-GbKPXW",
        "colab_type": "code",
        "colab": {
          "base_uri": "https://localhost:8080/",
          "height": 34
        },
        "outputId": "5a07fb52-8c12-44e1-a473-3a6f5ac7c4a1"
      },
      "source": [
        "def HelloProject():\n",
        "    print(\"Sup' Stantormers\")\n",
        "    \n",
        "\n",
        "HelloProject()"
      ],
      "execution_count": 1,
      "outputs": [
        {
          "output_type": "stream",
          "text": [
            "Sup' Stantormers\n"
          ],
          "name": "stdout"
        }
      ]
    },
    {
      "cell_type": "code",
      "metadata": {
        "id": "iLRNTIczKPXk",
        "colab_type": "code",
        "colab": {}
      },
      "source": [
        ""
      ],
      "execution_count": 0,
      "outputs": []
    },
    {
      "cell_type": "code",
      "metadata": {
        "id": "zMWPn7KxKPXt",
        "colab_type": "code",
        "colab": {}
      },
      "source": [
        ""
      ],
      "execution_count": 0,
      "outputs": []
    }
  ]
}