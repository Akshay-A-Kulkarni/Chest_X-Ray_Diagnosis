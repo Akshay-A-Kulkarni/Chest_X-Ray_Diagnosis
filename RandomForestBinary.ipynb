{
 "cells": [
  {
   "cell_type": "markdown",
   "metadata": {},
   "source": [
    "# Binary Classifiers \n",
    "\n",
    "Binary Random Forest Classifiers comparing \"No Finding\" against: \n",
    "    - Cardiomegaly \n",
    "    - Consolidation \n",
    "    - Mass \n",
    "    - Effusion \n",
    "\n",
    "Includes AUC Scores, Accuracy, Precision, Recall, and F1 Score metrics.  "
   ]
  },
  {
   "cell_type": "markdown",
   "metadata": {},
   "source": [
    "### Preprocessing"
   ]
  },
  {
   "cell_type": "markdown",
   "metadata": {},
   "source": [
    "#### Import Dependencies"
   ]
  },
  {
   "cell_type": "code",
   "execution_count": 82,
   "metadata": {},
   "outputs": [],
   "source": [
    "#Packages\n",
    "import matplotlib.pyplot as plt\n",
    "import pandas as pd\n",
    "import seaborn as sns\n",
    "\n",
    "from sklearn.ensemble import RandomForestClassifier\n",
    "from sklearn import metrics\n",
    "from sklearn.metrics import roc_curve, auc\n",
    "from sklearn.metrics import roc_auc_score\n",
    "from sklearn.preprocessing import LabelBinarizer\n",
    "\n",
    "#Geoff's Preprocessor \n",
    "from x_ray import preprocessor "
   ]
  },
  {
   "cell_type": "markdown",
   "metadata": {},
   "source": [
    "#### Define Static Variables "
   ]
  },
  {
   "cell_type": "code",
   "execution_count": 83,
   "metadata": {
    "collapsed": true
   },
   "outputs": [],
   "source": [
    "#Define directories for CSV and image folder\n",
    "csv_path = 'C:/Users/stany/Desktop/project-data-repo/x_ray_1000.csv'\n",
    "image_path = 'C:/Users/stany/Desktop/project-data-repo/x_ray_1000_images'"
   ]
  },
  {
   "cell_type": "markdown",
   "metadata": {},
   "source": [
    "#### Helper Functions"
   ]
  },
  {
   "cell_type": "code",
   "execution_count": 84,
   "metadata": {},
   "outputs": [],
   "source": [
    "def model_preprocess(csv_path, image_path, input_labels):\n",
    "    #Model Specific Preprocessing  \n",
    "    prepper = preprocessor(csv_path, image_path, 100, 100, input_labels)\n",
    "    #save training, validation, and testing datasets to X_train, X_val, X_test, y_train, y_val, y_test\n",
    "    return prepper.prepare_x_ray_data()\n",
    "    \n",
    "def model_train(X_train, y_train): \n",
    "    #Trains model and returns predictions\n",
    "   \n",
    "    #Create an instance of the RFC\n",
    "    classifier=RandomForestClassifier(n_estimators=100, random_state=123, oob_score=True) #Note, n_estimators is the number of trees\n",
    "    #Train the model using the training set, X_train, y_train \n",
    "    classifier.fit(X_train,y_train) \n",
    "    #Save the predictions \n",
    "    y_pred = classifier.predict(X_test)\n",
    "    #Save to y_pred\n",
    "    return y_pred\n",
    "    \n",
    "    \n",
    "def model_classification_metrics(y_test, y_pred, average=None): \n",
    "    #Print Model Accuracy, how often is the classifier correct? \n",
    "    print(\"\\nClassification Metrics:\")\n",
    "    print(\"--------------------------------------------------------\")\n",
    "    print(\"Accuracy:\",metrics.accuracy_score(y_test, y_pred))\n",
    "\n",
    "    #Other classification metrics\n",
    "    #print(\"Error Score:\",1-metrics.accuracy_score(y_test,y_pred))\n",
    "    print(\"Precision:\",metrics.precision_score(y_test,y_pred, average = average))\n",
    "    print(\"Recall:\",metrics.recall_score(y_test,y_pred, average = average))\n",
    "    print(\"F1 Score:\",metrics.f1_score(y_test,y_pred, average = average))\n",
    "    print(\"--------------------------------------------------------\")\n",
    "    \n",
    "def model_confusion_matrix(y_test, y_pred,include_title=False): \n",
    "    #Create Confusion Matrix\n",
    "    cm = metrics.confusion_matrix(y_test, y_pred)\n",
    "    plt.figure(figsize=(2,2))\n",
    "    sns.heatmap(cm, annot=True, fmt=\".2f\", linewidths=0.5, square = False, cmap = 'Blues_r', xticklabels=True,yticklabels=True)\n",
    "    plt.ylabel('Actual Label')\n",
    "    plt.xlabel('Predicted Label')\n",
    "    if include_title==True:\n",
    "        plt.title('Confusion Matrix', size = 15)\n",
    "    \n",
    "def model_rocCurve_aucStat(y_test, y_pred, label): \n",
    "    #Binarize the data\n",
    "    lb = LabelBinarizer()\n",
    "    lb.fit(y_test)\n",
    "    y_test = lb.transform(y_test)\n",
    "    y_pred = lb.transform(y_pred)\n",
    "\n",
    "    #Create ROC Curve\n",
    "    fpr, tpr, thresholds = roc_curve(y_test, y_pred)\n",
    "    roc_auc = auc(fpr, tpr) #AUC Statistic\n",
    "    print(\"ROC Curve:\")\n",
    "    plt.figure()\n",
    "    lw = 2\n",
    "    #label example: 'ROC No Finding v. Cardiomegaly (area = %0.2f)'\n",
    "    plt.plot(fpr, tpr, color='darkorange',lw=lw, label=label % roc_auc)\n",
    "    plt.plot([0, 1], [0, 1], color='navy', lw=lw, linestyle='--')\n",
    "    plt.xlim([0.0, 1.0])\n",
    "    plt.ylim([0.0, 1.05])\n",
    "    plt.xlabel('False Positive Rate')\n",
    "    plt.ylabel('True Positive Rate')\n",
    "    #plt.title('Receiver Operating Characteristic: No Finding vs. Cardiomegaly')\n",
    "    plt.legend(loc=\"lower right\")\n",
    "    plt.show()\n",
    "\n",
    "    #AUC Score \n",
    "    print(\"AUC Score:\", roc_auc_score(y_test, y_pred, average=\"macro\"))"
   ]
  },
  {
   "cell_type": "markdown",
   "metadata": {},
   "source": [
    "### No Finding vs Cardiomegaly Random Forest Classifier "
   ]
  },
  {
   "cell_type": "markdown",
   "metadata": {},
   "source": [
    "#### Model Specific Preprocessing"
   ]
  },
  {
   "cell_type": "code",
   "execution_count": 85,
   "metadata": {},
   "outputs": [
    {
     "name": "stdout",
     "output_type": "stream",
     "text": [
      "Assigning numerical Finding Labels to Finding IDs...\n",
      "Creating a data frame of the flat image matrics & associated labels and then shuffling...\n"
     ]
    }
   ],
   "source": [
    "#Define specific labels for model\n",
    "input_labels = ['No Finding','Cardiomegaly']\n",
    "\n",
    "X_train, X_val, X_test, y_train, y_val, y_test = model_preprocess(csv_path, image_path, input_labels)"
   ]
  },
  {
   "cell_type": "markdown",
   "metadata": {},
   "source": [
    "#### Training the Model"
   ]
  },
  {
   "cell_type": "code",
   "execution_count": 86,
   "metadata": {
    "collapsed": true
   },
   "outputs": [],
   "source": [
    "#Train the model, save predictions\n",
    "y_pred = model_train(X_train, y_train)"
   ]
  },
  {
   "cell_type": "markdown",
   "metadata": {},
   "source": [
    "#### Evaluate the Model "
   ]
  },
  {
   "cell_type": "markdown",
   "metadata": {},
   "source": [
    "##### Classification Metrics"
   ]
  },
  {
   "cell_type": "code",
   "execution_count": 87,
   "metadata": {},
   "outputs": [
    {
     "name": "stdout",
     "output_type": "stream",
     "text": [
      "\n",
      "Classification Metrics:\n",
      "--------------------------------------------------------\n",
      "Accuracy: 0.7475\n",
      "Precision: 0.74780355936\n",
      "Recall: 0.7475\n",
      "F1 Score: 0.747422648186\n",
      "--------------------------------------------------------\n"
     ]
    }
   ],
   "source": [
    "#Print classification metrics\n",
    "model_classification_metrics(y_test,y_pred,average='macro')"
   ]
  },
  {
   "cell_type": "markdown",
   "metadata": {},
   "source": [
    "##### Confusion Matrix"
   ]
  },
  {
   "cell_type": "code",
   "execution_count": 88,
   "metadata": {},
   "outputs": [
    {
     "data": {
      "image/png": "[encoded data removed]",
      "text/plain": [
       "<Figure size 144x144 with 2 Axes>"
      ]
     },
     "metadata": {
      "needs_background": "light"
     },
     "output_type": "display_data"
    }
   ],
   "source": [
    "#Create Confusion Matrix\n",
    "model_confusion_matrix(y_test, y_pred)"
   ]
  },
  {
   "cell_type": "markdown",
   "metadata": {},
   "source": [
    "##### ROC Curve & AUC Statistic"
   ]
  },
  {
   "cell_type": "code",
   "execution_count": 89,
   "metadata": {},
   "outputs": [
    {
     "name": "stdout",
     "output_type": "stream",
     "text": [
      "ROC Curve:\n"
     ]
    },
    {
     "data": {
      "image/png": "[encoded data removed]",
      "text/plain": [
       "<Figure size 432x288 with 1 Axes>"
      ]
     },
     "metadata": {
      "needs_background": "light"
     },
     "output_type": "display_data"
    },
    {
     "name": "stdout",
     "output_type": "stream",
     "text": [
      "AUC Score: 0.7475\n"
     ]
    }
   ],
   "source": [
    "#Create ROC Curve, print AUC statistic\n",
    "label = 'ROC No Finding v. Cardiomegaly (area = %0.2f)'\n",
    "model_rocCurve_aucStat(y_test, y_pred, label)"
   ]
  },
  {
   "cell_type": "markdown",
   "metadata": {},
   "source": [
    "### No Finding vs Consolidation"
   ]
  },
  {
   "cell_type": "markdown",
   "metadata": {},
   "source": [
    "#### Model Specific Preprocessing "
   ]
  },
  {
   "cell_type": "code",
   "execution_count": 90,
   "metadata": {},
   "outputs": [
    {
     "name": "stdout",
     "output_type": "stream",
     "text": [
      "Assigning numerical Finding Labels to Finding IDs...\n",
      "Creating a data frame of the flat image matrics & associated labels and then shuffling...\n"
     ]
    }
   ],
   "source": [
    "#Define specific labels for model\n",
    "input_labels = ['No Finding','Consolidation']\n",
    "\n",
    "X_train, X_val, X_test, y_train, y_val, y_test = model_preprocess(csv_path, image_path, input_labels)"
   ]
  },
  {
   "cell_type": "markdown",
   "metadata": {},
   "source": [
    "#### Training the Model"
   ]
  },
  {
   "cell_type": "code",
   "execution_count": 91,
   "metadata": {
    "collapsed": true
   },
   "outputs": [],
   "source": [
    "#Train the model, save predictions\n",
    "y_pred = model_train(X_train, y_train)"
   ]
  },
  {
   "cell_type": "markdown",
   "metadata": {},
   "source": [
    "#### Evaluate the Model "
   ]
  },
  {
   "cell_type": "markdown",
   "metadata": {},
   "source": [
    "##### Classification Metrics"
   ]
  },
  {
   "cell_type": "code",
   "execution_count": 92,
   "metadata": {},
   "outputs": [
    {
     "name": "stdout",
     "output_type": "stream",
     "text": [
      "\n",
      "Classification Metrics:\n",
      "--------------------------------------------------------\n",
      "Accuracy: 0.76\n",
      "Precision: 0.761674718196\n",
      "Recall: 0.76\n",
      "F1 Score: 0.759615384615\n",
      "--------------------------------------------------------\n"
     ]
    }
   ],
   "source": [
    "#Print classification metrics\n",
    "model_classification_metrics(y_test,y_pred,average='macro')"
   ]
  },
  {
   "cell_type": "markdown",
   "metadata": {},
   "source": [
    "##### Confusion Matrix"
   ]
  },
  {
   "cell_type": "code",
   "execution_count": 93,
   "metadata": {},
   "outputs": [
    {
     "data": {
      "image/png": "[encoded data removed]",
      "text/plain": [
       "<Figure size 144x144 with 2 Axes>"
      ]
     },
     "metadata": {
      "needs_background": "light"
     },
     "output_type": "display_data"
    }
   ],
   "source": [
    "#Create Confusion Matrix\n",
    "model_confusion_matrix(y_test, y_pred)"
   ]
  },
  {
   "cell_type": "markdown",
   "metadata": {},
   "source": [
    "##### ROC Curve & AUC Statistic"
   ]
  },
  {
   "cell_type": "code",
   "execution_count": 94,
   "metadata": {},
   "outputs": [
    {
     "name": "stdout",
     "output_type": "stream",
     "text": [
      "ROC Curve:\n"
     ]
    },
    {
     "data": {
      "image/png": "[encoded data removed]",
      "text/plain": [
       "<Figure size 432x288 with 1 Axes>"
      ]
     },
     "metadata": {
      "needs_background": "light"
     },
     "output_type": "display_data"
    },
    {
     "name": "stdout",
     "output_type": "stream",
     "text": [
      "AUC Score: 0.76\n"
     ]
    }
   ],
   "source": [
    "#Create ROC Curve, print AUC statistic\n",
    "label = 'ROC No Finding v. Consolidation (area = %0.2f)'\n",
    "model_rocCurve_aucStat(y_test, y_pred, label)"
   ]
  },
  {
   "cell_type": "markdown",
   "metadata": {},
   "source": [
    "### No Finding vs Mass "
   ]
  },
  {
   "cell_type": "markdown",
   "metadata": {},
   "source": [
    "#### Model Specific Preprocessing"
   ]
  },
  {
   "cell_type": "code",
   "execution_count": 95,
   "metadata": {},
   "outputs": [
    {
     "name": "stdout",
     "output_type": "stream",
     "text": [
      "Assigning numerical Finding Labels to Finding IDs...\n",
      "Creating a data frame of the flat image matrics & associated labels and then shuffling...\n"
     ]
    }
   ],
   "source": [
    "#Define specific labels for model\n",
    "input_labels = ['No Finding','Mass']\n",
    "\n",
    "X_train, X_val, X_test, y_train, y_val, y_test = model_preprocess(csv_path, image_path, input_labels)"
   ]
  },
  {
   "cell_type": "markdown",
   "metadata": {},
   "source": [
    "#### Training the Model"
   ]
  },
  {
   "cell_type": "code",
   "execution_count": 96,
   "metadata": {
    "collapsed": true
   },
   "outputs": [],
   "source": [
    "#Train the model, save predictions\n",
    "y_pred = model_train(X_train, y_train)"
   ]
  },
  {
   "cell_type": "markdown",
   "metadata": {},
   "source": [
    "#### Evaluate the Model "
   ]
  },
  {
   "cell_type": "code",
   "execution_count": 97,
   "metadata": {},
   "outputs": [
    {
     "name": "stdout",
     "output_type": "stream",
     "text": [
      "ROC Curve:\n"
     ]
    },
    {
     "data": {
      "image/png": "[encoded data removed]",
      "text/plain": [
       "<Figure size 432x288 with 1 Axes>"
      ]
     },
     "metadata": {
      "needs_background": "light"
     },
     "output_type": "display_data"
    },
    {
     "name": "stdout",
     "output_type": "stream",
     "text": [
      "AUC Score: 0.5625\n",
      "\n",
      "Classification Metrics:\n",
      "--------------------------------------------------------\n",
      "Accuracy: 0.5625\n",
      "Precision: 0.562626819309\n",
      "Recall: 0.5625\n",
      "F1 Score: 0.562278403442\n",
      "--------------------------------------------------------\n"
     ]
    },
    {
     "data": {
      "image/png": "[encoded data removed]",
      "text/plain": [
       "<Figure size 144x144 with 2 Axes>"
      ]
     },
     "metadata": {
      "needs_background": "light"
     },
     "output_type": "display_data"
    }
   ],
   "source": [
    "#Create ROC Curve, print AUC statistic\n",
    "label = 'ROC No Finding v. Mass (area = %0.2f)'\n",
    "model_rocCurve_aucStat(y_test, y_pred, label)\n",
    "\n",
    "#Print classification metrics\n",
    "model_classification_metrics(y_test,y_pred,average='macro')\n",
    "\n",
    "#Create Confusion Matrix\n",
    "model_confusion_matrix(y_test, y_pred)"
   ]
  },
  {
   "cell_type": "markdown",
   "metadata": {},
   "source": [
    "### No Finding vs Effusion"
   ]
  },
  {
   "cell_type": "markdown",
   "metadata": {},
   "source": [
    "#### Model Specific Preprocessing"
   ]
  },
  {
   "cell_type": "code",
   "execution_count": 98,
   "metadata": {},
   "outputs": [
    {
     "name": "stdout",
     "output_type": "stream",
     "text": [
      "Assigning numerical Finding Labels to Finding IDs...\n",
      "Creating a data frame of the flat image matrics & associated labels and then shuffling...\n"
     ]
    }
   ],
   "source": [
    "#Define specific labels for model\n",
    "input_labels = ['No Finding','Effusion']\n",
    "\n",
    "X_train, X_val, X_test, y_train, y_val, y_test = model_preprocess(csv_path, image_path, input_labels)"
   ]
  },
  {
   "cell_type": "markdown",
   "metadata": {},
   "source": [
    "#### Training the Model"
   ]
  },
  {
   "cell_type": "code",
   "execution_count": 99,
   "metadata": {
    "collapsed": true
   },
   "outputs": [],
   "source": [
    "#Train the model, save predictions\n",
    "y_pred = model_train(X_train, y_train)"
   ]
  },
  {
   "cell_type": "markdown",
   "metadata": {},
   "source": [
    "#### Evaluate the Model"
   ]
  },
  {
   "cell_type": "code",
   "execution_count": 100,
   "metadata": {},
   "outputs": [
    {
     "name": "stdout",
     "output_type": "stream",
     "text": [
      "ROC Curve:\n"
     ]
    },
    {
     "data": {
      "image/png": "[encoded data removed]",
      "text/plain": [
       "<Figure size 432x288 with 1 Axes>"
      ]
     },
     "metadata": {
      "needs_background": "light"
     },
     "output_type": "display_data"
    },
    {
     "name": "stdout",
     "output_type": "stream",
     "text": [
      "AUC Score: 0.77\n",
      "\n",
      "Classification Metrics:\n",
      "--------------------------------------------------------\n",
      "Accuracy: 0.77\n",
      "Precision: 0.77\n",
      "Recall: 0.77\n",
      "F1 Score: 0.77\n",
      "--------------------------------------------------------\n"
     ]
    },
    {
     "data": {
      "image/png": "[encoded data removed]",
      "text/plain": [
       "<Figure size 144x144 with 2 Axes>"
      ]
     },
     "metadata": {
      "needs_background": "light"
     },
     "output_type": "display_data"
    }
   ],
   "source": [
    "#Create ROC Curve, print AUC statistic\n",
    "label = 'ROC No Finding v. Effusion (area = %0.2f)'\n",
    "model_rocCurve_aucStat(y_test, y_pred, label)\n",
    "\n",
    "#Print classification metrics\n",
    "model_classification_metrics(y_test,y_pred,average='macro')\n",
    "\n",
    "#Create Confusion Matrix\n",
    "model_confusion_matrix(y_test, y_pred)"
   ]
  },
  {
   "cell_type": "code",
   "execution_count": null,
   "metadata": {
    "collapsed": true
   },
   "outputs": [],
   "source": []
  }
 ],
 "metadata": {
  "kernelspec": {
   "display_name": "Python 3",
   "language": "python",
   "name": "python3"
  },
  "language_info": {
   "codemirror_mode": {
    "name": "ipython",
    "version": 3
   },
   "file_extension": ".py",
   "mimetype": "text/x-python",
   "name": "python",
   "nbconvert_exporter": "python",
   "pygments_lexer": "ipython3",
   "version": "3.6.3"
  }
 },
 "nbformat": 4,
 "nbformat_minor": 2
}
