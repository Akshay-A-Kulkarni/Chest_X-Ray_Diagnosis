{
 "cells": [
  {
   "cell_type": "code",
   "execution_count": 1,
   "metadata": {
    "collapsed": true
   },
   "outputs": [],
   "source": [
    "#Import Geoff's Preprocessor\n",
    "from x_ray import preprocessor "
   ]
  },
  {
   "cell_type": "code",
   "execution_count": 2,
   "metadata": {},
   "outputs": [
    {
     "name": "stderr",
     "output_type": "stream",
     "text": [
      "C:\\Users\\stany\\Anaconda3\\lib\\site-packages\\sklearn\\utils\\validation.py:475: DataConversionWarning: Data with input dtype int64 was converted to float64 by StandardScaler.\n",
      "  warnings.warn(msg, DataConversionWarning)\n"
     ]
    }
   ],
   "source": [
    "##Create an instance of the class from Geoff's Preprocessor \n",
    "##and develop testing & response datasets split into testing and training subsets.  \n",
    "\n",
    "#Use the function (provide a path, select input labels, and call the function)\n",
    "csv_path = 'C:/Users/stany/Desktop/sample_data/sample_labels.csv'  #C:\\Users\\stany\\Desktop\n",
    "image_path = 'C:/Users/stany/Desktop/sample_data/images/'\n",
    "input_labels = ['Pneumothorax', 'Effusion']\n",
    "\n",
    "#Create an instance of the class \n",
    "preprocessor = preprocessor(csv_path, image_path, input_labels, 100, 100)\n",
    "\n",
    "X_train, X_val, X_test, y_train, y_val, y_test = preprocessor.prepare_x_ray_data()"
   ]
  },
  {
   "cell_type": "code",
   "execution_count": 22,
   "metadata": {},
   "outputs": [
    {
     "data": {
      "text/html": [
       "<div>\n",
       "<style>\n",
       "    .dataframe thead tr:only-child th {\n",
       "        text-align: right;\n",
       "    }\n",
       "\n",
       "    .dataframe thead th {\n",
       "        text-align: left;\n",
       "    }\n",
       "\n",
       "    .dataframe tbody tr th {\n",
       "        vertical-align: top;\n",
       "    }\n",
       "</style>\n",
       "<table border=\"1\" class=\"dataframe\">\n",
       "  <thead>\n",
       "    <tr style=\"text-align: right;\">\n",
       "      <th></th>\n",
       "      <th>0</th>\n",
       "      <th>1</th>\n",
       "      <th>2</th>\n",
       "      <th>3</th>\n",
       "      <th>4</th>\n",
       "      <th>5</th>\n",
       "      <th>6</th>\n",
       "      <th>7</th>\n",
       "      <th>8</th>\n",
       "      <th>9</th>\n",
       "      <th>...</th>\n",
       "      <th>9990</th>\n",
       "      <th>9991</th>\n",
       "      <th>9992</th>\n",
       "      <th>9993</th>\n",
       "      <th>9994</th>\n",
       "      <th>9995</th>\n",
       "      <th>9996</th>\n",
       "      <th>9997</th>\n",
       "      <th>9998</th>\n",
       "      <th>9999</th>\n",
       "    </tr>\n",
       "  </thead>\n",
       "  <tbody>\n",
       "    <tr>\n",
       "      <th>0</th>\n",
       "      <td>1.016821</td>\n",
       "      <td>1.447101</td>\n",
       "      <td>1.671769</td>\n",
       "      <td>1.830485</td>\n",
       "      <td>1.960918</td>\n",
       "      <td>2.013077</td>\n",
       "      <td>2.005921</td>\n",
       "      <td>2.101044</td>\n",
       "      <td>2.105139</td>\n",
       "      <td>2.070566</td>\n",
       "      <td>...</td>\n",
       "      <td>-0.742347</td>\n",
       "      <td>-1.007122</td>\n",
       "      <td>-0.978527</td>\n",
       "      <td>-0.925913</td>\n",
       "      <td>-0.848140</td>\n",
       "      <td>-0.803056</td>\n",
       "      <td>-0.767611</td>\n",
       "      <td>-0.736886</td>\n",
       "      <td>-0.788089</td>\n",
       "      <td>-0.805704</td>\n",
       "    </tr>\n",
       "    <tr>\n",
       "      <th>241</th>\n",
       "      <td>1.060402</td>\n",
       "      <td>0.704773</td>\n",
       "      <td>0.379889</td>\n",
       "      <td>0.455212</td>\n",
       "      <td>0.529562</td>\n",
       "      <td>0.627315</td>\n",
       "      <td>0.651270</td>\n",
       "      <td>0.817920</td>\n",
       "      <td>1.454857</td>\n",
       "      <td>1.842684</td>\n",
       "      <td>...</td>\n",
       "      <td>-0.955208</td>\n",
       "      <td>-0.893342</td>\n",
       "      <td>-0.838105</td>\n",
       "      <td>-0.796888</td>\n",
       "      <td>-0.742759</td>\n",
       "      <td>-0.722357</td>\n",
       "      <td>-0.699032</td>\n",
       "      <td>-0.680530</td>\n",
       "      <td>-0.730613</td>\n",
       "      <td>-0.622218</td>\n",
       "    </tr>\n",
       "    <tr>\n",
       "      <th>294</th>\n",
       "      <td>0.827970</td>\n",
       "      <td>0.704773</td>\n",
       "      <td>0.519015</td>\n",
       "      <td>0.285948</td>\n",
       "      <td>0.305913</td>\n",
       "      <td>0.331989</td>\n",
       "      <td>0.295952</td>\n",
       "      <td>0.374658</td>\n",
       "      <td>0.363312</td>\n",
       "      <td>0.361452</td>\n",
       "      <td>...</td>\n",
       "      <td>0.021447</td>\n",
       "      <td>0.004256</td>\n",
       "      <td>-0.008342</td>\n",
       "      <td>-0.138861</td>\n",
       "      <td>-0.703240</td>\n",
       "      <td>-0.574410</td>\n",
       "      <td>-0.479579</td>\n",
       "      <td>-0.286036</td>\n",
       "      <td>0.002205</td>\n",
       "      <td>0.609761</td>\n",
       "    </tr>\n",
       "    <tr>\n",
       "      <th>30</th>\n",
       "      <td>-0.668316</td>\n",
       "      <td>-0.562617</td>\n",
       "      <td>-0.494614</td>\n",
       "      <td>-0.475742</td>\n",
       "      <td>-0.499225</td>\n",
       "      <td>-0.394968</td>\n",
       "      <td>-0.325855</td>\n",
       "      <td>-0.115262</td>\n",
       "      <td>-0.008278</td>\n",
       "      <td>0.224723</td>\n",
       "      <td>...</td>\n",
       "      <td>0.559860</td>\n",
       "      <td>0.547871</td>\n",
       "      <td>0.553344</td>\n",
       "      <td>0.609483</td>\n",
       "      <td>0.614031</td>\n",
       "      <td>0.474669</td>\n",
       "      <td>0.329655</td>\n",
       "      <td>0.150725</td>\n",
       "      <td>-0.198961</td>\n",
       "      <td>-0.556687</td>\n",
       "    </tr>\n",
       "    <tr>\n",
       "      <th>293</th>\n",
       "      <td>-0.610208</td>\n",
       "      <td>-0.490195</td>\n",
       "      <td>-0.415114</td>\n",
       "      <td>-0.391110</td>\n",
       "      <td>-0.387401</td>\n",
       "      <td>-0.394968</td>\n",
       "      <td>-0.392477</td>\n",
       "      <td>-0.395216</td>\n",
       "      <td>-0.403092</td>\n",
       "      <td>-0.413346</td>\n",
       "      <td>...</td>\n",
       "      <td>1.436345</td>\n",
       "      <td>1.546606</td>\n",
       "      <td>1.549060</td>\n",
       "      <td>1.602974</td>\n",
       "      <td>1.667848</td>\n",
       "      <td>1.752394</td>\n",
       "      <td>1.865827</td>\n",
       "      <td>1.897770</td>\n",
       "      <td>1.927650</td>\n",
       "      <td>1.592722</td>\n",
       "    </tr>\n",
       "  </tbody>\n",
       "</table>\n",
       "<p>5 rows × 10000 columns</p>\n",
       "</div>"
      ],
      "text/plain": [
       "         0         1         2         3         4         5         6     \\\n",
       "0    1.016821  1.447101  1.671769  1.830485  1.960918  2.013077  2.005921   \n",
       "241  1.060402  0.704773  0.379889  0.455212  0.529562  0.627315  0.651270   \n",
       "294  0.827970  0.704773  0.519015  0.285948  0.305913  0.331989  0.295952   \n",
       "30  -0.668316 -0.562617 -0.494614 -0.475742 -0.499225 -0.394968 -0.325855   \n",
       "293 -0.610208 -0.490195 -0.415114 -0.391110 -0.387401 -0.394968 -0.392477   \n",
       "\n",
       "         7         8         9       ...         9990      9991      9992  \\\n",
       "0    2.101044  2.105139  2.070566    ...    -0.742347 -1.007122 -0.978527   \n",
       "241  0.817920  1.454857  1.842684    ...    -0.955208 -0.893342 -0.838105   \n",
       "294  0.374658  0.363312  0.361452    ...     0.021447  0.004256 -0.008342   \n",
       "30  -0.115262 -0.008278  0.224723    ...     0.559860  0.547871  0.553344   \n",
       "293 -0.395216 -0.403092 -0.413346    ...     1.436345  1.546606  1.549060   \n",
       "\n",
       "         9993      9994      9995      9996      9997      9998      9999  \n",
       "0   -0.925913 -0.848140 -0.803056 -0.767611 -0.736886 -0.788089 -0.805704  \n",
       "241 -0.796888 -0.742759 -0.722357 -0.699032 -0.680530 -0.730613 -0.622218  \n",
       "294 -0.138861 -0.703240 -0.574410 -0.479579 -0.286036  0.002205  0.609761  \n",
       "30   0.609483  0.614031  0.474669  0.329655  0.150725 -0.198961 -0.556687  \n",
       "293  1.602974  1.667848  1.752394  1.865827  1.897770  1.927650  1.592722  \n",
       "\n",
       "[5 rows x 10000 columns]"
      ]
     },
     "execution_count": 22,
     "metadata": {},
     "output_type": "execute_result"
    }
   ],
   "source": [
    "X_train.head()"
   ]
  },
  {
   "cell_type": "code",
   "execution_count": 12,
   "metadata": {},
   "outputs": [],
   "source": [
    "#Import Random Forest Model\n",
    "from sklearn.ensemble import RandomForestClassifier"
   ]
  },
  {
   "cell_type": "code",
   "execution_count": 13,
   "metadata": {
    "collapsed": true
   },
   "outputs": [],
   "source": [
    "#Create a Gaussian Classifier \n",
    "classifier=RandomForestClassifier(n_estimators=100) #Note, n_estimators is the number of trees"
   ]
  },
  {
   "cell_type": "code",
   "execution_count": 15,
   "metadata": {},
   "outputs": [
    {
     "data": {
      "text/plain": [
       "RandomForestClassifier(bootstrap=True, class_weight=None, criterion='gini',\n",
       "            max_depth=None, max_features='auto', max_leaf_nodes=None,\n",
       "            min_impurity_decrease=0.0, min_impurity_split=None,\n",
       "            min_samples_leaf=1, min_samples_split=2,\n",
       "            min_weight_fraction_leaf=0.0, n_estimators=100, n_jobs=1,\n",
       "            oob_score=False, random_state=None, verbose=0,\n",
       "            warm_start=False)"
      ]
     },
     "execution_count": 15,
     "metadata": {},
     "output_type": "execute_result"
    }
   ],
   "source": [
    "#Train the model using the training set, X_train, y_train \n",
    "classifier.fit(X_train,y_train)"
   ]
  },
  {
   "cell_type": "code",
   "execution_count": 16,
   "metadata": {
    "collapsed": true
   },
   "outputs": [],
   "source": [
    "#Save the predictions \n",
    "y_pred = classifier.predict(X_test)"
   ]
  },
  {
   "cell_type": "code",
   "execution_count": 17,
   "metadata": {
    "collapsed": true
   },
   "outputs": [],
   "source": [
    "#Import scikit-learn metrics module for accuracy calculation\n",
    "from sklearn import metrics"
   ]
  },
  {
   "cell_type": "code",
   "execution_count": 18,
   "metadata": {},
   "outputs": [
    {
     "name": "stdout",
     "output_type": "stream",
     "text": [
      "Accuracy: 0.6875\n"
     ]
    }
   ],
   "source": [
    "#Print Model Accuracy, how often is the classifier correcy? \n",
    "print(\"Accuracy:\",metrics.accuracy_score(y_test, y_pred))"
   ]
  },
  {
   "cell_type": "code",
   "execution_count": 48,
   "metadata": {
    "collapsed": true
   },
   "outputs": [],
   "source": [
    "#Import Pandas\n",
    "import pandas as pd "
   ]
  },
  {
   "cell_type": "code",
   "execution_count": 51,
   "metadata": {},
   "outputs": [
    {
     "data": {
      "text/plain": [
       "7440    0.004916\n",
       "8596    0.004366\n",
       "7757    0.003524\n",
       "9296    0.003501\n",
       "7914    0.003386\n",
       "dtype: float64"
      ]
     },
     "execution_count": 51,
     "metadata": {},
     "output_type": "execute_result"
    }
   ],
   "source": [
    "#Rank features by importance\n",
    "feature_imp = pd.Series(classifier.feature_importances_).sort_values(ascending=False)\n",
    "feature_imp.head()"
   ]
  },
  {
   "cell_type": "code",
   "execution_count": 37,
   "metadata": {},
   "outputs": [
    {
     "data": {
      "text/html": [
       "<div>\n",
       "<style>\n",
       "    .dataframe thead tr:only-child th {\n",
       "        text-align: right;\n",
       "    }\n",
       "\n",
       "    .dataframe thead th {\n",
       "        text-align: left;\n",
       "    }\n",
       "\n",
       "    .dataframe tbody tr th {\n",
       "        vertical-align: top;\n",
       "    }\n",
       "</style>\n",
       "<table border=\"1\" class=\"dataframe\">\n",
       "  <thead>\n",
       "    <tr style=\"text-align: right;\">\n",
       "      <th></th>\n",
       "      <th>7440</th>\n",
       "      <th>8596</th>\n",
       "      <th>7757</th>\n",
       "      <th>9296</th>\n",
       "      <th>7914</th>\n",
       "    </tr>\n",
       "  </thead>\n",
       "  <tbody>\n",
       "    <tr>\n",
       "      <th>0</th>\n",
       "      <td>0.171558</td>\n",
       "      <td>-0.841649</td>\n",
       "      <td>-0.598276</td>\n",
       "      <td>-0.759086</td>\n",
       "      <td>0.142865</td>\n",
       "    </tr>\n",
       "    <tr>\n",
       "      <th>241</th>\n",
       "      <td>0.450582</td>\n",
       "      <td>-0.733802</td>\n",
       "      <td>0.466497</td>\n",
       "      <td>-0.670911</td>\n",
       "      <td>-0.555470</td>\n",
       "    </tr>\n",
       "    <tr>\n",
       "      <th>294</th>\n",
       "      <td>-1.307267</td>\n",
       "      <td>-0.625955</td>\n",
       "      <td>-1.219394</td>\n",
       "      <td>-0.465171</td>\n",
       "      <td>-1.166514</td>\n",
       "    </tr>\n",
       "    <tr>\n",
       "      <th>30</th>\n",
       "      <td>-0.498098</td>\n",
       "      <td>0.514142</td>\n",
       "      <td>-0.391237</td>\n",
       "      <td>0.063876</td>\n",
       "      <td>-0.625304</td>\n",
       "    </tr>\n",
       "    <tr>\n",
       "      <th>293</th>\n",
       "      <td>-0.246977</td>\n",
       "      <td>1.885340</td>\n",
       "      <td>0.111573</td>\n",
       "      <td>1.974322</td>\n",
       "      <td>0.020656</td>\n",
       "    </tr>\n",
       "  </tbody>\n",
       "</table>\n",
       "</div>"
      ],
      "text/plain": [
       "         7440      8596      7757      9296      7914\n",
       "0    0.171558 -0.841649 -0.598276 -0.759086  0.142865\n",
       "241  0.450582 -0.733802  0.466497 -0.670911 -0.555470\n",
       "294 -1.307267 -0.625955 -1.219394 -0.465171 -1.166514\n",
       "30  -0.498098  0.514142 -0.391237  0.063876 -0.625304\n",
       "293 -0.246977  1.885340  0.111573  1.974322  0.020656"
      ]
     },
     "execution_count": 37,
     "metadata": {},
     "output_type": "execute_result"
    }
   ],
   "source": [
    "important_features = list(feature_imp.head().index)\n",
    "X_train[important_features].head()"
   ]
  },
  {
   "cell_type": "code",
   "execution_count": 41,
   "metadata": {},
   "outputs": [],
   "source": [
    "#Create new testing and training feature sets\n",
    "X_train_filtered = X_train[important_features]\n",
    "X_test_filtered = X_test[important_features]"
   ]
  },
  {
   "cell_type": "code",
   "execution_count": 42,
   "metadata": {},
   "outputs": [
    {
     "data": {
      "text/plain": [
       "RandomForestClassifier(bootstrap=True, class_weight=None, criterion='gini',\n",
       "            max_depth=None, max_features='auto', max_leaf_nodes=None,\n",
       "            min_impurity_decrease=0.0, min_impurity_split=None,\n",
       "            min_samples_leaf=1, min_samples_split=2,\n",
       "            min_weight_fraction_leaf=0.0, n_estimators=100, n_jobs=1,\n",
       "            oob_score=False, random_state=None, verbose=0,\n",
       "            warm_start=False)"
      ]
     },
     "execution_count": 42,
     "metadata": {},
     "output_type": "execute_result"
    }
   ],
   "source": [
    "#Create a new instance of Random Forest and use it to fit a new model\n",
    "classifier2=RandomForestClassifier(n_estimators=100)\n",
    "classifier2.fit(X_train_filtered, y_train)"
   ]
  },
  {
   "cell_type": "code",
   "execution_count": 46,
   "metadata": {},
   "outputs": [],
   "source": [
    "#Make predictions on the new test set \n",
    "y_pred2 = classifier2.predict(X_test_filtered)"
   ]
  },
  {
   "cell_type": "code",
   "execution_count": 47,
   "metadata": {},
   "outputs": [
    {
     "name": "stdout",
     "output_type": "stream",
     "text": [
      "Accuracy: 0.6875\n"
     ]
    }
   ],
   "source": [
    "#Print new model accuracy.  \n",
    "print(\"Accuracy:\",metrics.accuracy_score(y_test,y_pred2))"
   ]
  },
  {
   "cell_type": "code",
   "execution_count": null,
   "metadata": {
    "collapsed": true
   },
   "outputs": [],
   "source": []
  }
 ],
 "metadata": {
  "kernelspec": {
   "display_name": "Python 3",
   "language": "python",
   "name": "python3"
  },
  "language_info": {
   "codemirror_mode": {
    "name": "ipython",
    "version": 3
   },
   "file_extension": ".py",
   "mimetype": "text/x-python",
   "name": "python",
   "nbconvert_exporter": "python",
   "pygments_lexer": "ipython3",
   "version": "3.6.3"
  }
 },
 "nbformat": 4,
 "nbformat_minor": 2
}
